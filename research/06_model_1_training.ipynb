{
 "cells": [
  {
   "attachments": {},
   "cell_type": "markdown",
   "metadata": {},
   "source": [
    "# 06 - Model 1 Training"
   ]
  },
  {
   "cell_type": "code",
   "execution_count": null,
   "metadata": {},
   "outputs": [],
   "source": [
    "# importing libraries\n",
    "import numpy as np\n",
    "import tensorflow as tf\n",
    "from tensorflow.keras import Model, Input\n",
    "from tensorflow.keras.layers import Conv2D, MaxPooling2D, Dropout, UpSampling2D, concatenate, LeakyReLU, ReLU\n",
    "from tensorflow.keras.optimizers import RMSprop\n",
    "from tensorflow.keras.metrics import MeanIoU\n",
    "from sklearn.model_selection import train_test_split\n",
    "import tifffile\n",
    "from pathlib import Path\n",
    "import os\n",
    "import mlflow\n",
    "import mlflow.tensorflow\n",
    "from tqdm import tqdm\n",
    "import time\n",
    "\n",
    "# Project path\n",
    "TERRAFLOOD = Path('../')"
   ]
  },
  {
   "cell_type": "code",
   "execution_count": null,
   "metadata": {},
   "outputs": [],
   "source": [
    "# GPU info\n",
    "!nvidia-smi"
   ]
  },
  {
   "cell_type": "code",
   "execution_count": null,
   "metadata": {},
   "outputs": [],
   "source": [
    "# Define Jaccard Loss\n",
    "def jaccard_loss(y_true, y_pred, smooth=100):\n",
    "    \"\"\"\n",
    "    Calculates the Jaccard loss, also known as the Intersection over Union (IoU) loss.\n",
    "    Args:\n",
    "        y_true (tensor): Ground truth labels.\n",
    "        y_pred (tensor): Predicted labels.\n",
    "        smooth (float): Smoothing factor to avoid division by zero.\n",
    "    Returns:\n",
    "        jaccard loss (tensor)\n",
    "    \"\"\"\n",
    "    y_true_f = tf.keras.backend.flatten(y_true)\n",
    "    y_pred_f = tf.keras.backend.flatten(y_pred)\n",
    "    intersection = tf.keras.backend.sum(y_true_f * y_pred_f)\n",
    "    sum_ = tf.keras.backend.sum(y_true_f + y_pred_f)\n",
    "    jac = (intersection + smooth) / (sum_ - intersection + smooth)\n",
    "    return 1 - jac"
   ]
  },
  {
   "cell_type": "code",
   "execution_count": null,
   "metadata": {},
   "outputs": [],
   "source": [
    "# Define U-Net model (single channel)\n",
    "def unet_one_channel(input_size=(256, 256, 1), loss_function='jaccard_loss'):\n",
    "    inputs = Input(input_size)\n",
    "\n",
    "    def conv_block(inputs, num_filters):\n",
    "        conv = Conv2D(num_filters, 3, activation=LeakyReLU(), padding=\"same\")(inputs)\n",
    "        conv = Conv2D(num_filters, 3, activation=LeakyReLU(), padding=\"same\")(conv)\n",
    "        return conv\n",
    "\n",
    "    conv1 = conv_block(inputs, 64)\n",
    "    pool1 = MaxPooling2D(pool_size=(2, 2))(conv1)\n",
    "\n",
    "    conv2 = conv_block(pool1, 128)\n",
    "    pool2 = MaxPooling2D(pool_size=(2, 2))(conv2)\n",
    "\n",
    "    conv3 = conv_block(pool2, 256)\n",
    "    pool3 = MaxPooling2D(pool_size=(2, 2))(conv3)\n",
    "\n",
    "    conv4 = conv_block(pool3, 512)\n",
    "    drop4 = Dropout(0.3)(conv4)\n",
    "    pool4 = MaxPooling2D(pool_size=(2, 2))(drop4)\n",
    "\n",
    "    conv5 = conv_block(pool4, 1024)\n",
    "    drop5 = Dropout(0.3)(conv5)\n",
    "\n",
    "    def up_block(inputs, skip_connection, num_filters):\n",
    "        up = Conv2D(num_filters, 2, activation=LeakyReLU(), padding=\"same\")(UpSampling2D(size=(2, 2))(inputs))\n",
    "        merge = concatenate([skip_connection, up], axis=3)\n",
    "        conv = conv_block(merge, num_filters)\n",
    "        return conv\n",
    "\n",
    "    conv6 = up_block(drop5, drop4, 512)\n",
    "    conv7 = up_block(conv6, conv3, 256)\n",
    "    conv8 = up_block(conv7, conv2, 128)\n",
    "    conv9 = up_block(conv8, conv1, 64)\n",
    "\n",
    "    conv9 = Conv2D(2, 1, activation=LeakyReLU(), padding=\"same\")(conv9)\n",
    "    conv10 = Conv2D(1, 1, activation=\"sigmoid\")(conv9)\n",
    "\n",
    "    model = Model(inputs, conv10)\n",
    "\n",
    "    model.compile(optimizer=RMSprop(learning_rate=1e-4), loss=jaccard_loss, metrics=[\"accuracy\", MeanIoU(num_classes=2)])\n",
    "    return model"
   ]
  }
 ],
 "metadata": {
  "language_info": {
   "name": "python"
  },
  "orig_nbformat": 4
 },
 "nbformat": 4,
 "nbformat_minor": 2
}
