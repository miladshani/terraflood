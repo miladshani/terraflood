{
 "cells": [
  {
   "cell_type": "code",
   "execution_count": 1,
   "metadata": {},
   "outputs": [],
   "source": [
    "# Import libraries\n",
    "import numpy as np\n",
    "from pathlib import Path\n",
    "import rasterio as rio\n",
    "from rasterio.warp import calculate_default_transform, reproject, Resampling\n",
    "from rasterio.crs import CRS\n",
    "from rasterio.io import MemoryFile\n",
    "from rasterio.enums import Resampling\n",
    "import affine\n",
    "import os\n",
    "from shapely.geometry import box\n",
    "from rasterio.coords import BoundingBox\n",
    "from rasterio.mask import mask as masker\n",
    "import pystac\n",
    "\n",
    "# RAM check\n",
    "import psutil"
   ]
  },
  {
   "cell_type": "code",
   "execution_count": 2,
   "metadata": {},
   "outputs": [
    {
     "name": "stdout",
     "output_type": "stream",
     "text": [
      "117.98528\n"
     ]
    }
   ],
   "source": [
    "# RAM check\n",
    "process = psutil.Process()\n",
    "print(process.memory_info().rss / 10**6)"
   ]
  },
  {
   "cell_type": "code",
   "execution_count": 3,
   "metadata": {},
   "outputs": [],
   "source": [
    "# input paths\n",
    "load_base = Path(\"../data/input_scene_4/vv/vv.tif\")\n",
    "load_mask = Path(\"../data/input_scene_4/ex_mask/ex_mask.tif\")\n",
    "\n",
    "save_base = Path(\"../data/input_scene_4/vv/corrected/vv.tif\")\n"
   ]
  },
  {
   "cell_type": "code",
   "execution_count": 4,
   "metadata": {},
   "outputs": [
    {
     "name": "stdout",
     "output_type": "stream",
     "text": [
      "{'driver': 'GTiff', 'dtype': 'float32', 'nodata': None, 'width': 14513, 'height': 11030, 'count': 1, 'crs': CRS.from_epsg(32645), 'transform': Affine(20.0, 0.0, 645963.1025014379,\n",
      "       0.0, -20.0, 3013959.0940192696)}\n",
      "{'driver': 'GTiff', 'dtype': 'uint8', 'nodata': 0.0, 'width': 13544, 'height': 14475, 'count': 1, 'crs': CRS.from_epsg(4326), 'transform': Affine(9.999999999999987e-05, 0.0, 88.532464704,\n",
      "       0.0, -9.999999999999987e-05, 26.485432)}\n"
     ]
    }
   ],
   "source": [
    "# TEST\n",
    "\n",
    "with rio.open(load_base) as src:\n",
    "    print(src.meta)\n",
    "\n",
    "with rio.open(load_mask) as src:\n",
    "    print(src.meta)"
   ]
  },
  {
   "cell_type": "code",
   "execution_count": 5,
   "metadata": {},
   "outputs": [],
   "source": [
    "# Function to change CRS system\n",
    "# REPROJECTION CRS WITHOUT SAVING\n",
    "# KEEPS IN --> RAM <--\n",
    "\n",
    "\n",
    "def reproject_crs(file_path, target_crs):\n",
    "    \"\"\"Function to load tiff file from path\n",
    "    with desired crs.\n",
    "    \"\"\"\n",
    "\n",
    "    # Open the input GeoTIFF file\n",
    "    with rio.open(file_path) as src:\n",
    "        print(type(src))\n",
    "\n",
    "        # Read metadata\n",
    "        src_crs = src.crs\n",
    "        src_transform = src.transform\n",
    "        src_width = src.width\n",
    "        src_height = src.height\n",
    "\n",
    "        # Calculate the transform for reprojecting\n",
    "        transform, width, height = calculate_default_transform(\n",
    "            src_crs, target_crs, src_width, src_height, *src.bounds\n",
    "        )\n",
    "\n",
    "        # Create options for the output file\n",
    "        kwargs = src.meta.copy()\n",
    "        kwargs.update(\n",
    "            {\n",
    "                \"crs\": target_crs,\n",
    "                \"transform\": transform,\n",
    "                \"width\": width,\n",
    "                \"height\": height,\n",
    "            }\n",
    "        )\n",
    "\n",
    "        # Create an in-memory dataset\n",
    "        memfile = MemoryFile()\n",
    "        dst = memfile.open(**kwargs)\n",
    "\n",
    "        # Reproject and write to the in-memory dataset\n",
    "        reproject(\n",
    "            source=rio.band(src, 1),\n",
    "            destination=rio.band(dst, 1),\n",
    "            src_transform=src_transform,\n",
    "            src_crs=src_crs,\n",
    "            dst_transform=transform,\n",
    "            dst_crs=target_crs,\n",
    "            resampling=Resampling.nearest,\n",
    "        )\n",
    "    return dst"
   ]
  },
  {
   "cell_type": "code",
   "execution_count": 6,
   "metadata": {},
   "outputs": [
    {
     "name": "stdout",
     "output_type": "stream",
     "text": [
      "<class 'rasterio.io.DatasetReader'>\n",
      "<class 'rasterio.io.DatasetReader'>\n"
     ]
    }
   ],
   "source": [
    "# Loading all files with CRS:32632 as example\n",
    "target_crs = CRS.from_epsg(32632)\n",
    "base = reproject_crs(load_base, target_crs)\n",
    "mask = reproject_crs(load_mask, target_crs)"
   ]
  },
  {
   "cell_type": "code",
   "execution_count": 7,
   "metadata": {},
   "outputs": [
    {
     "name": "stdout",
     "output_type": "stream",
     "text": [
      "{'driver': 'GTiff', 'dtype': 'float32', 'nodata': None, 'width': 15461, 'height': 17470, 'count': 1, 'crs': CRS.from_epsg(32632), 'transform': Affine(42.7489038895335, 0.0, 9097095.379141487,\n",
      "       0.0, -42.7489038895335, 8403721.582311189)}\n",
      "{'driver': 'GTiff', 'dtype': 'uint8', 'nodata': 0.0, 'width': 18741, 'height': 17422, 'count': 1, 'crs': CRS.from_epsg(32632), 'transform': Affine(22.83709757980859, 0.0, 9262139.073830998,\n",
      "       0.0, -22.83709757980859, 8051503.261560466)}\n"
     ]
    }
   ],
   "source": [
    "# TEST\n",
    "\n",
    "print(base.meta)\n",
    "print(mask.meta)"
   ]
  },
  {
   "cell_type": "code",
   "execution_count": 8,
   "metadata": {},
   "outputs": [
    {
     "name": "stdout",
     "output_type": "stream",
     "text": [
      "BoundingBox(left=9097095.379141487, bottom=7656898.231361039, right=9758036.182177564, top=8403721.582311189)\n",
      "BoundingBox(left=9262139.073830998, bottom=7653635.347525041, right=9690129.119574191, top=8051503.261560466)\n"
     ]
    }
   ],
   "source": [
    "# TEST\n",
    "\n",
    "print(base.bounds)\n",
    "print(mask.bounds)"
   ]
  },
  {
   "cell_type": "code",
   "execution_count": 9,
   "metadata": {},
   "outputs": [
    {
     "name": "stdout",
     "output_type": "stream",
     "text": [
      "(42.7489038895335, 42.7489038895335) (22.83709757980859, 22.83709757980859)\n"
     ]
    }
   ],
   "source": [
    "# TEST\n",
    "\n",
    "print(base.res, mask.res)"
   ]
  },
  {
   "cell_type": "code",
   "execution_count": 10,
   "metadata": {},
   "outputs": [],
   "source": [
    "# Getting overlap bounding box between files\n",
    "# So to keep parts of data that are needed in the RAM\n",
    "\n",
    "left = [base.bounds.left, mask.bounds.left]\n",
    "bottom = [base.bounds.bottom, mask.bounds.bottom]\n",
    "right = [base.bounds.right, mask.bounds.right]\n",
    "top = [base.bounds.top, mask.bounds.top]\n",
    "\n",
    "overlap_bounds = BoundingBox(\n",
    "    left=max(left), bottom=max(bottom), right=min(right), top=min(top)\n",
    ")"
   ]
  },
  {
   "cell_type": "code",
   "execution_count": 11,
   "metadata": {},
   "outputs": [
    {
     "name": "stdout",
     "output_type": "stream",
     "text": [
      "[9097095.379141487, 9262139.073830998]\n",
      "[7656898.231361039, 7653635.347525041]\n",
      "[9758036.182177564, 9690129.119574191]\n",
      "[8403721.582311189, 8051503.261560466]\n",
      "BoundingBox(left=9262139.073830998, bottom=7656898.231361039, right=9690129.119574191, top=8051503.261560466)\n"
     ]
    }
   ],
   "source": [
    "# TEST\n",
    "\n",
    "print(left)\n",
    "print(bottom)\n",
    "print(right)\n",
    "print(top)\n",
    "print(overlap_bounds)"
   ]
  },
  {
   "cell_type": "code",
   "execution_count": 12,
   "metadata": {},
   "outputs": [
    {
     "name": "stdout",
     "output_type": "stream",
     "text": [
      "POLYGON ((9690129.119574191 7656898.231361039, 9690129.119574191 8051503.261560466, 9262139.073830998 8051503.261560466, 9262139.073830998 7656898.231361039, 9690129.119574191 7656898.231361039))\n"
     ]
    }
   ],
   "source": [
    "# Convert bounds to polygon\n",
    "overlap_polygon = box(*overlap_bounds)\n",
    "print(overlap_polygon)"
   ]
  },
  {
   "cell_type": "code",
   "execution_count": 13,
   "metadata": {},
   "outputs": [],
   "source": [
    "# Crop numpy arrays\n",
    "\n",
    "crop_base, base_transform = masker(base, shapes=[overlap_polygon], crop=True)\n",
    "crop_mask, mask_transform = masker(mask, shapes=[overlap_polygon], crop=True)"
   ]
  },
  {
   "cell_type": "code",
   "execution_count": 14,
   "metadata": {},
   "outputs": [
    {
     "name": "stdout",
     "output_type": "stream",
     "text": [
      "| 42.75, 0.00, 9262106.15|\n",
      "| 0.00,-42.75, 8051513.36|\n",
      "| 0.00, 0.00, 1.00|\n",
      "| 22.84, 0.00, 9262139.07|\n",
      "| 0.00,-22.84, 8051503.26|\n",
      "| 0.00, 0.00, 1.00|\n"
     ]
    }
   ],
   "source": [
    "# TEST\n",
    "\n",
    "print(base_transform)\n",
    "print(mask_transform)"
   ]
  },
  {
   "cell_type": "code",
   "execution_count": 15,
   "metadata": {},
   "outputs": [],
   "source": [
    "# Create MemoryFile() out of crop_img\n",
    "\n",
    "def mem_file(image, crop_img, transform):\n",
    "    profile = image.profile.copy()\n",
    "    profile.update(\n",
    "        driver=\"GTiff\",\n",
    "        height=crop_img.shape[1],\n",
    "        width=crop_img.shape[2],\n",
    "        transform=transform,\n",
    "    )\n",
    "\n",
    "    memfile = MemoryFile()\n",
    "    cropped_image = memfile.open(**profile)\n",
    "    cropped_image.write(crop_img)\n",
    "\n",
    "    return cropped_image"
   ]
  },
  {
   "cell_type": "code",
   "execution_count": 16,
   "metadata": {},
   "outputs": [],
   "source": [
    "# Create memory file for base and mask\n",
    "\n",
    "cropped_base = mem_file(base, crop_base, base_transform)\n",
    "cropped_mask = mem_file(mask, crop_mask, mask_transform)"
   ]
  },
  {
   "cell_type": "code",
   "execution_count": 17,
   "metadata": {},
   "outputs": [
    {
     "name": "stdout",
     "output_type": "stream",
     "text": [
      "{'driver': 'GTiff', 'dtype': 'float32', 'nodata': None, 'width': 10013, 'height': 9231, 'count': 1, 'crs': CRS.from_epsg(32632), 'transform': Affine(42.7489038895335, 0.0, 9262106.148155086,\n",
      "       0.0, -42.7489038895335, 8051513.363165323)}\n",
      "{'driver': 'GTiff', 'dtype': 'uint8', 'nodata': 0.0, 'width': 18741, 'height': 17280, 'count': 1, 'crs': CRS.from_epsg(32632), 'transform': Affine(22.83709757980859, 0.0, 9262139.073830998,\n",
      "       0.0, -22.83709757980859, 8051503.261560466)}\n"
     ]
    }
   ],
   "source": [
    "# TEST\n",
    "\n",
    "print(cropped_base.meta)\n",
    "print(cropped_mask.meta)"
   ]
  },
  {
   "cell_type": "code",
   "execution_count": 18,
   "metadata": {},
   "outputs": [
    {
     "name": "stdout",
     "output_type": "stream",
     "text": [
      "(42.7489038895335, 42.7489038895335) (22.83709757980859, 22.83709757980859)\n"
     ]
    }
   ],
   "source": [
    "# TEST\n",
    "\n",
    "print(cropped_base.res, cropped_mask.res)"
   ]
  },
  {
   "cell_type": "code",
   "execution_count": 19,
   "metadata": {},
   "outputs": [
    {
     "name": "stdout",
     "output_type": "stream",
     "text": [
      "BoundingBox(left=9262106.148155086, bottom=7656898.231361039, right=9690150.922800984, top=8051513.363165323)\n",
      "BoundingBox(left=9262139.073830998, bottom=7656878.215381374, right=9690129.119574191, top=8051503.261560466)\n"
     ]
    }
   ],
   "source": [
    "# TEST\n",
    "\n",
    "print(cropped_base.bounds)\n",
    "print(cropped_mask.bounds)"
   ]
  },
  {
   "cell_type": "code",
   "execution_count": 20,
   "metadata": {},
   "outputs": [],
   "source": [
    "# Function to change the resolution of files to desired one\n",
    "\n",
    "def rescale_image(input_file, scale_factor):\n",
    "    # Read the data from the source file\n",
    "    src = input_file\n",
    "    data = src.read(\n",
    "        out_shape=(\n",
    "            src.count,\n",
    "            int(src.height * scale_factor),\n",
    "            int(src.width * scale_factor),\n",
    "        ),\n",
    "        resampling=Resampling.bilinear,\n",
    "    )\n",
    "\n",
    "    # Update the metadata\n",
    "    transform = src.transform * src.transform.scale(\n",
    "        (src.width / data.shape[-1]), (src.height / data.shape[-2])\n",
    "    )\n",
    "\n",
    "    # Update the profile\n",
    "    profile = src.profile\n",
    "    profile.update(\n",
    "        driver=\"GTiff\",\n",
    "        height=data.shape[1],\n",
    "        width=data.shape[2],\n",
    "        transform=transform,\n",
    "    )\n",
    "\n",
    "    memfile = MemoryFile()\n",
    "    scaled_dataset = memfile.open(**profile)\n",
    "    scaled_dataset.write(data)\n",
    "\n",
    "    return scaled_dataset, profile "
   ]
  },
  {
   "cell_type": "code",
   "execution_count": 21,
   "metadata": {},
   "outputs": [
    {
     "name": "stdout",
     "output_type": "stream",
     "text": [
      "mask refactoring scale: 0.534214810251543\n"
     ]
    }
   ],
   "source": [
    "# Set resolution to standard\n",
    "\n",
    "RES = cropped_base.res[0]\n",
    "mask_refactor = cropped_mask.res[0] / RES\n",
    "\n",
    "print(\"mask refactoring scale:\", mask_refactor)"
   ]
  },
  {
   "cell_type": "code",
   "execution_count": 22,
   "metadata": {},
   "outputs": [],
   "source": [
    "# Changing mask file resolution to base file resolution\n",
    "\n",
    "base_scaled = cropped_base\n",
    "mask_scaled, _ = rescale_image(mask, mask_refactor)"
   ]
  },
  {
   "cell_type": "code",
   "execution_count": 23,
   "metadata": {},
   "outputs": [
    {
     "name": "stdout",
     "output_type": "stream",
     "text": [
      "{'driver': 'GTiff', 'dtype': 'float32', 'nodata': None, 'width': 10013, 'height': 9231, 'count': 1, 'crs': CRS.from_epsg(32632), 'transform': Affine(42.7489038895335, 0.0, 9262106.148155086,\n",
      "       0.0, -42.7489038895335, 8051513.363165323)}\n",
      "{'driver': 'GTiff', 'dtype': 'uint8', 'nodata': 0.0, 'width': 10011, 'height': 9307, 'count': 1, 'crs': CRS.from_epsg(32632), 'transform': Affine(42.75197739918018, 0.0, 9262139.073830998,\n",
      "       0.0, -42.749319225897196, 8051503.261560466)}\n"
     ]
    }
   ],
   "source": [
    "# Profile\n",
    "\n",
    "print(base_scaled.meta, mask_scaled.meta, sep=\"\\n\")"
   ]
  },
  {
   "cell_type": "code",
   "execution_count": 24,
   "metadata": {},
   "outputs": [
    {
     "name": "stdout",
     "output_type": "stream",
     "text": [
      "2888.024064\n"
     ]
    }
   ],
   "source": [
    "# Memory usage monitor \n",
    "\n",
    "print(process.memory_info().rss / 10**6)"
   ]
  },
  {
   "cell_type": "code",
   "execution_count": 25,
   "metadata": {},
   "outputs": [],
   "source": [
    "# USING EXCLUTION MASK FOR BASE DATA\n",
    "\n",
    "def return_masked_base(base, mask):\n",
    "\n",
    "    base_data = base.read(1)\n",
    "    base_meta = base.meta.copy()\n",
    "\n",
    "    mask_data = mask.read(1)\n",
    "    mask_meta = mask.meta.copy()\n",
    "\n",
    "    # Resample mask raster to match primary raster's resolution and transform\n",
    "    transform, width, height = calculate_default_transform(\n",
    "        mask.crs, base_meta['crs'], base_meta['width'], base_meta['height'], *mask.bounds)\n",
    "\n",
    "    mask_resampled = np.empty((base_meta['height'], base_meta['width']), dtype=np.uint8)\n",
    "\n",
    "    reproject(\n",
    "        source=mask_data,\n",
    "        destination=mask_resampled,\n",
    "        src_transform=mask.transform,\n",
    "        src_crs=mask.crs,\n",
    "        dst_transform=base_meta['transform'],\n",
    "        dst_crs=base_meta['crs'],\n",
    "        resampling=Resampling.nearest,\n",
    "        )\n",
    "\n",
    "    # Apply mask to primary raster\n",
    "    new_base_data = np.where(mask_resampled == 1, base_data, 0)\n",
    "\n",
    "    # Update metadata\n",
    "    base_meta.update(dtype='float32', nodata=0)\n",
    "\n",
    "    return new_base_data, base_meta"
   ]
  },
  {
   "cell_type": "code",
   "execution_count": 26,
   "metadata": {},
   "outputs": [],
   "source": [
    "# Calculating final base\n",
    "\n",
    "new_base_data, new_base_meta = return_masked_base(base_scaled, mask_scaled)\n"
   ]
  },
  {
   "cell_type": "code",
   "execution_count": null,
   "metadata": {},
   "outputs": [],
   "source": [
    "# Saving into file\n",
    "\n",
    "save_base.parent.mkdir(parents=True, exist_ok=True)\n",
    "\n",
    "with rio.open(save_base, \"w\", **new_base_meta) as m:\n",
    "        m.write(new_base_data, 1)"
   ]
  }
 ],
 "metadata": {
  "kernelspec": {
   "display_name": "terraflood",
   "language": "python",
   "name": "python3"
  },
  "language_info": {
   "codemirror_mode": {
    "name": "ipython",
    "version": 3
   },
   "file_extension": ".py",
   "mimetype": "text/x-python",
   "name": "python",
   "nbconvert_exporter": "python",
   "pygments_lexer": "ipython3",
   "version": "3.11.0"
  },
  "orig_nbformat": 4
 },
 "nbformat": 4,
 "nbformat_minor": 2
}
