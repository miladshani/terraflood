{
 "cells": [
  {
   "cell_type": "code",
   "execution_count": 1,
   "metadata": {},
   "outputs": [],
   "source": [
    "# Correcting None value problem\n",
    "# example: dfferenciate nonwater pixels with nonvalue pixels in mask file"
   ]
  },
  {
   "cell_type": "code",
   "execution_count": 2,
   "metadata": {},
   "outputs": [],
   "source": [
    "# Import libraries\n",
    "import rasterio as rio\n",
    "import os\n",
    "from pathlib import Path\n",
    "import numpy as np"
   ]
  },
  {
   "cell_type": "code",
   "execution_count": 3,
   "metadata": {},
   "outputs": [],
   "source": [
    "# File adresses (for LOAD and SAVE)\n",
    "load_file_address = Path(\"../data/input_scene_4/mask/mask.tif\")\n",
    "save_file_address = Path(\"../data/input_scene_4/mask/corrected/mask.tif\")\n",
    "\n",
    "new_nodata_value = 255.0"
   ]
  },
  {
   "cell_type": "code",
   "execution_count": 4,
   "metadata": {},
   "outputs": [],
   "source": [
    "save_file_address.parent.mkdir(parents=True, exist_ok=True)"
   ]
  },
  {
   "cell_type": "code",
   "execution_count": 5,
   "metadata": {},
   "outputs": [],
   "source": [
    "def update_pixel_value(image, old_value, new_value):\n",
    "    \n",
    "    # Replace nodata values with the new value\n",
    "    image = np.where(image == old_value, new_value, image)\n",
    "\n",
    "    return image"
   ]
  },
  {
   "cell_type": "code",
   "execution_count": 6,
   "metadata": {},
   "outputs": [],
   "source": [
    "# change nan value of the file\n",
    "def update_nodata_value(input_path, output_path, new_nodata_value):\n",
    "    # Open the input TIFF file\n",
    "    with rio.open(input_path) as src:\n",
    "        # Read the metadata\n",
    "        metadata = src.meta\n",
    "        \n",
    "        # Update the nodata value in the metadata\n",
    "        metadata.update(nodata=new_nodata_value)\n",
    "        \n",
    "        # Read the image data\n",
    "        image = src.read()\n",
    "\n",
    "        # update lable value\n",
    "        image = update_pixel_value(image, 2, 1)\n",
    "        \n",
    "        # Write the modified metadata and image data to the output path\n",
    "        with rio.open(output_path, 'w', **metadata) as dst:\n",
    "            dst.write(image)\n",
    "            print(\"Done!\")"
   ]
  },
  {
   "cell_type": "code",
   "execution_count": 7,
   "metadata": {},
   "outputs": [
    {
     "name": "stdout",
     "output_type": "stream",
     "text": [
      "Done!\n"
     ]
    }
   ],
   "source": [
    "# Call the function\n",
    "update_nodata_value(load_file_address, save_file_address, new_nodata_value)"
   ]
  }
 ],
 "metadata": {
  "kernelspec": {
   "display_name": "terraflood",
   "language": "python",
   "name": "python3"
  },
  "language_info": {
   "codemirror_mode": {
    "name": "ipython",
    "version": 3
   },
   "file_extension": ".py",
   "mimetype": "text/x-python",
   "name": "python",
   "nbconvert_exporter": "python",
   "pygments_lexer": "ipython3",
   "version": "3.11.0"
  },
  "orig_nbformat": 4
 },
 "nbformat": 4,
 "nbformat_minor": 2
}
