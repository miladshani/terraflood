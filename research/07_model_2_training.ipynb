{
 "cells": [
  {
   "attachments": {},
   "cell_type": "markdown",
   "metadata": {},
   "source": [
    "# 07 - Model 2 Training"
   ]
  },
  {
   "cell_type": "code",
   "execution_count": null,
   "metadata": {},
   "outputs": [],
   "source": [
    "# importing libraries\n",
    "import numpy as np\n",
    "import tensorflow as tf\n",
    "from tensorflow.keras import Model, Input\n",
    "from tensorflow.keras.layers import Conv2D, MaxPooling2D, Dropout, UpSampling2D, concatenate, LeakyReLU, ReLU\n",
    "from tensorflow.keras.optimizers import RMSprop\n",
    "from tensorflow.keras.metrics import MeanIoU\n",
    "from sklearn.model_selection import train_test_split\n",
    "import tifffile\n",
    "from pathlib import Path\n",
    "import os\n",
    "import mlflow\n",
    "import mlflow.tensorflow\n",
    "from tqdm import tqdm\n",
    "import time\n",
    "\n",
    "# Project path\n",
    "TERRAFLOOD = Path('../')"
   ]
  },
  {
   "cell_type": "code",
   "execution_count": null,
   "metadata": {},
   "outputs": [],
   "source": [
    "# ------------ inputs --------------\n",
    "# experiment's meta data\n",
    "experiment_number = 1\n",
    "model_architectre = 2\n",
    "epochs = 200\n",
    "early_stopping_patience = 10\n",
    "learning_rate_patience = 5\n",
    "\n",
    "# input and output paths\n",
    "load_path = TERRAFLOOD.joinpath(\"dataset_balanced/\")\n",
    "save_path = TERRAFLOOD.joinpath(f\"experiments/model_{model_architecture}_exp_{experiment_number}/\")\n",
    "\n",
    "# structure of logging and saving with naming convention\n",
    "# Checkpoint of the model\n",
    "checkpoint_dir = save_path.joinpath(\"checkpoint/\")\n",
    "checkpoint_path = checkpoint_dir / f\"model_{model_architecture}_check_exp_{experiment_number}_epochs_{epochs}_patience_{early_stopping_patience}_{learning_rate_patience}.keras\"\n",
    "\n",
    "# Logging on tensorboard\n",
    "tensorboard_logs_dir = save_path.joinpath(\"tensorboard_log/\")\n",
    "\n",
    "# Saving final log on ML-Flow\n",
    "mlflow_logs_dir = save_path.joinpath(\"mlflow_log/\")\n",
    "\n",
    "# Saving the final model\n",
    "model_save_dir = save_path.joinpath(\"model/\")\n",
    "model_path = model_save_dir / f\"model_{model_architecture}_exp_{experiment_number}_epochs_{epochs}_patience_{early_stopping_patience}_{learning_rate_patience}.keras\"\n",
    "\n",
    "# directory existence ensurance\n",
    "checkpoint_dir.mkdir(parents=True, exist_ok=True)\n",
    "tensorboard_logs_dir.mkdir(parents=True, exist_ok=True)\n",
    "mlflow_logs_dir.mkdir(parents=True, exist_ok=True)\n",
    "model_save_dir.mkdir(parents=True, exist_ok=True)"
   ]
  },
  {
   "cell_type": "code",
   "execution_count": null,
   "metadata": {},
   "outputs": [],
   "source": [
    "# Hardware info\n",
    "# Print TensorFlow version\n",
    "print(\"TensorFlow version:\", tf.__version__)\n",
    "\n",
    "# List available devices\n",
    "devices = tf.config.list_physical_devices()\n",
    "print(\"Available devices:\", devices)\n",
    "\n",
    "# GPU info in details (assuming nvidia as GPU device)\n",
    "!nvidia-smi"
   ]
  }
 ],
 "metadata": {
  "language_info": {
   "name": "python"
  },
  "orig_nbformat": 4
 },
 "nbformat": 4,
 "nbformat_minor": 2
}
