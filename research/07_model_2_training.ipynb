{
 "cells": [
  {
   "attachments": {},
   "cell_type": "markdown",
   "metadata": {},
   "source": [
    "# 07 - Model 2 Training"
   ]
  },
  {
   "cell_type": "code",
   "execution_count": null,
   "metadata": {},
   "outputs": [],
   "source": [
    "# importing libraries\n",
    "import numpy as np\n",
    "import tensorflow as tf\n",
    "from tensorflow.keras import Model, Input\n",
    "from tensorflow.keras.layers import Conv2D, MaxPooling2D, Dropout, UpSampling2D, concatenate, LeakyReLU, ReLU\n",
    "from tensorflow.keras.optimizers import RMSprop\n",
    "from tensorflow.keras.metrics import MeanIoU\n",
    "from sklearn.model_selection import train_test_split\n",
    "import tifffile\n",
    "from pathlib import Path\n",
    "import os\n",
    "import mlflow\n",
    "import mlflow.tensorflow\n",
    "from tqdm import tqdm\n",
    "import time\n",
    "\n",
    "# Project path\n",
    "TERRAFLOOD = Path('../')"
   ]
  }
 ],
 "metadata": {
  "language_info": {
   "name": "python"
  },
  "orig_nbformat": 4
 },
 "nbformat": 4,
 "nbformat_minor": 2
}
