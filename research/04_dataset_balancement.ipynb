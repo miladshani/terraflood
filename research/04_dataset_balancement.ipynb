{
 "cells": [
  {
   "attachments": {},
   "cell_type": "markdown",
   "metadata": {},
   "source": [
    "# 04 - dataset blancement"
   ]
  },
  {
   "cell_type": "code",
   "execution_count": null,
   "metadata": {},
   "outputs": [],
   "source": [
    "# Importing libraries\n",
    "\n",
    "import os\n",
    "import random\n",
    "import numpy as np\n",
    "import rasterio\n",
    "import matplotlib.pyplot as plt\n",
    "from shutil import copy2, rmtree\n",
    "from scipy.ndimage import zoom\n",
    "from typing import Dict, List, Tuple, Union"
   ]
  },
  {
   "cell_type": "code",
   "execution_count": null,
   "metadata": {},
   "outputs": [],
   "source": [
    "# Utils functions \n",
    "\n",
    "def get_water_percentage(dir_name: str) -> int:\n",
    "    \"\"\"\n",
    "    Extract the water percentage from the directory name.\n",
    "\n",
    "    Args:\n",
    "        dir_name (str): The name of the directory containing water percentage information.\n",
    "\n",
    "    Returns:\n",
    "        int: The water percentage extracted from the directory name.\n",
    "    \"\"\"\n",
    "    return int(dir_name.split('_')[2])\n",
    "\n",
    "def load_dataset(base_dir: str) -> Dict[str, List[Tuple[str, int]]]:\n",
    "    \"\"\"\n",
    "    Load dataset from the base directory.\n",
    "\n",
    "    Args:\n",
    "        base_dir (str): The base directory containing the dataset.\n",
    "\n",
    "    Returns:\n",
    "        Dict[str, List[Tuple[str, int]]]: A dictionary where keys are scene names and values are lists of tuples\n",
    "                                          with directory names and corresponding water percentages.\n",
    "    \"\"\"\n",
    "    dataset = {}\n",
    "    for scene in os.listdir(base_dir):\n",
    "        scene_path = os.path.join(base_dir, scene)\n",
    "        if os.path.isdir(scene_path):\n",
    "            dataset[scene] = []\n",
    "            for dir_name in os.listdir(scene_path):\n",
    "                water_percentage = get_water_percentage(dir_name)\n",
    "                dataset[scene].append((dir_name, water_percentage))\n",
    "    return dataset\n"
   ]
  }
 ],
 "metadata": {
  "language_info": {
   "name": "python"
  },
  "orig_nbformat": 4
 },
 "nbformat": 4,
 "nbformat_minor": 2
}
