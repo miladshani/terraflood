{
 "cells": [
  {
   "attachments": {},
   "cell_type": "markdown",
   "metadata": {},
   "source": [
    "# 01 - Exploratory Data Analysis of RAW input data"
   ]
  },
  {
   "cell_type": "code",
   "execution_count": 1,
   "metadata": {},
   "outputs": [],
   "source": [
    "# Import necessary libraries\n",
    "import rasterio\n",
    "from rasterio.enums import Resampling\n",
    "import numpy as np\n",
    "import matplotlib.pyplot as plt\n",
    "import seaborn as sns\n",
    "from sklearn.decomposition import PCA\n",
    "from skimage.feature import graycomatrix, graycoprops\n",
    "from rasterio.warp import reproject, calculate_default_transform\n",
    "from typing import Tuple, Dict, Any\n",
    "\n",
    "# Set plotting style\n",
    "sns.set(style=\"whitegrid\")"
   ]
  },
  {
   "cell_type": "code",
   "execution_count": null,
   "metadata": {},
   "outputs": [],
   "source": [
    "# Utils functions\n",
    "def plot_image(image: np.ndarray, title: str, cmap: str = 'viridis') -> None:\n",
    "    \"\"\"Plot a single band image.\n",
    "\n",
    "    Args:\n",
    "        image (np.ndarray): The image array to plot.\n",
    "        title (str): Title of the plot.\n",
    "        cmap (str): Colormap to use for the plot.\n",
    "    \"\"\"\n",
    "    plt.figure(figsize=(10, 10))\n",
    "    plt.imshow(image, cmap=cmap)\n",
    "    plt.colorbar()\n",
    "    plt.title(title)\n",
    "    plt.axis('off')\n",
    "    plt.show()\n",
    "\n",
    "def plot_histogram(image: np.ndarray, title: str) -> None:\n",
    "    \"\"\"Plot a histogram of pixel values in an image.\n",
    "\n",
    "    Args:\n",
    "        image (np.ndarray): The image array to plot.\n",
    "        title (str): Title of the histogram.\n",
    "    \"\"\"\n",
    "    plt.figure(figsize=(10, 6))\n",
    "    plt.hist(image.flatten(), bins=50, color='c', edgecolor='k', alpha=0.7)\n",
    "    plt.title(title)\n",
    "    plt.xlabel('Pixel Values')\n",
    "    plt.ylabel('Frequency')\n",
    "    plt.show()\n",
    "\n"
   ]
  },
  {
   "cell_type": "code",
   "execution_count": null,
   "metadata": {},
   "outputs": [],
   "source": []
  }
 ],
 "metadata": {
  "kernelspec": {
   "display_name": "terraflood",
   "language": "python",
   "name": "python3"
  },
  "language_info": {
   "codemirror_mode": {
    "name": "ipython",
    "version": 3
   },
   "file_extension": ".py",
   "mimetype": "text/x-python",
   "name": "python",
   "nbconvert_exporter": "python",
   "pygments_lexer": "ipython3",
   "version": "3.11.0"
  },
  "orig_nbformat": 4
 },
 "nbformat": 4,
 "nbformat_minor": 2
}
