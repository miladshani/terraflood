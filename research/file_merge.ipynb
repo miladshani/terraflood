{
 "cells": [
  {
   "cell_type": "code",
   "execution_count": 1,
   "metadata": {},
   "outputs": [],
   "source": [
    "# Importing libraries\n",
    "import os\n",
    "import numpy as np\n",
    "from pathlib import Path\n",
    "import rasterio as rio\n",
    "from rasterio.merge import merge"
   ]
  },
  {
   "cell_type": "code",
   "execution_count": 2,
   "metadata": {},
   "outputs": [],
   "source": [
    "# path to separate files\n",
    "load_path = Path(\"../data/mask\")"
   ]
  },
  {
   "cell_type": "code",
   "execution_count": 3,
   "metadata": {},
   "outputs": [
    {
     "data": {
      "text/plain": [
       "['.DS_Store', 'mask1.tif', 'mask2.tif', 'merged']"
      ]
     },
     "execution_count": 3,
     "metadata": {},
     "output_type": "execute_result"
    }
   ],
   "source": [
    "os.listdir(load_path)"
   ]
  },
  {
   "cell_type": "code",
   "execution_count": 4,
   "metadata": {},
   "outputs": [],
   "source": [
    "def merge_files(input_path: Path, output_name: str):\n",
    "    \"\"\"For GFM products which are not 1 piece\n",
    "    Input:Path -> Gets as input path of the files to be merged\n",
    "    Output:Path -> Merges the files, saves to ./merged/ folder\n",
    "    and returns the output file's path\n",
    "    \"\"\"\n",
    "\n",
    "    # defining output file's path\n",
    "    output_path = Path(os.path.join(input_path, \"merged\"))\n",
    "    output_path.mkdir(parents=True, exist_ok=True)\n",
    "    output_file = Path(os.path.join(output_path, output_name))\n",
    "\n",
    "    # break if the file already exists\n",
    "    if os.path.exists(output_file):\n",
    "        return output_file\n",
    "\n",
    "    # list of *.tif files paths in given directory\n",
    "    files_path = os.listdir(input_path)\n",
    "    files_path = filter(lambda x: x.endswith(\".tif\"), files_path)\n",
    "    files_path = list(files_path)\n",
    "\n",
    "    # loading files\n",
    "    files = []\n",
    "    for f in files_path:\n",
    "        temp_file_path = os.path.join(input_path, f)\n",
    "        file = rio.open(temp_file_path)\n",
    "        files.append(file)\n",
    "\n",
    "    # merging files\n",
    "    merged, output_trans = merge(files)\n",
    "\n",
    "    # new metadata\n",
    "    output_meta = file.meta.copy()\n",
    "    output_meta.update(\n",
    "        {\n",
    "            \"driver\": \"GTiff\",\n",
    "            \"height\": merged.shape[1],\n",
    "            \"width\": merged.shape[2],\n",
    "            \"transform\": output_trans,\n",
    "        }\n",
    "    )\n",
    "\n",
    "    # saving merged file into disk\n",
    "    with rio.open(output_file, \"w\", **output_meta) as m:\n",
    "        m.write(merged)\n",
    "\n",
    "    return output_file"
   ]
  },
  {
   "cell_type": "code",
   "execution_count": 5,
   "metadata": {},
   "outputs": [
    {
     "data": {
      "text/plain": [
       "PosixPath('../data/mask/merged/mask.tif')"
      ]
     },
     "execution_count": 5,
     "metadata": {},
     "output_type": "execute_result"
    }
   ],
   "source": [
    "merge_files(input_path=load_path, output_name=\"mask.tif\")"
   ]
  },
  {
   "cell_type": "code",
   "execution_count": null,
   "metadata": {},
   "outputs": [],
   "source": []
  }
 ],
 "metadata": {
  "kernelspec": {
   "display_name": "terraflood",
   "language": "python",
   "name": "python3"
  },
  "language_info": {
   "codemirror_mode": {
    "name": "ipython",
    "version": 3
   },
   "file_extension": ".py",
   "mimetype": "text/x-python",
   "name": "python",
   "nbconvert_exporter": "python",
   "pygments_lexer": "ipython3",
   "version": "3.11.0"
  }
 },
 "nbformat": 4,
 "nbformat_minor": 2
}
