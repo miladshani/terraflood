{
 "cells": [
  {
   "cell_type": "code",
   "execution_count": 39,
   "metadata": {},
   "outputs": [],
   "source": [
    "import rasterio as rio\n",
    "import numpy as np\n",
    "import os\n",
    "from pathlib import Path"
   ]
  },
  {
   "cell_type": "code",
   "execution_count": 40,
   "metadata": {},
   "outputs": [],
   "source": [
    "vv_dir = Path(\"../data/dataset/vv\")\n",
    "mask_dir = Path(\"../data/dataset/mask\")\n",
    "dem_dir = Path(\"../data/dataset/dem\")"
   ]
  },
  {
   "cell_type": "code",
   "execution_count": 41,
   "metadata": {},
   "outputs": [],
   "source": [
    "vv_files = os.listdir(vv_dir)\n",
    "mask_files = os.listdir(mask_dir)\n",
    "dem_files = os.listdir(dem_dir)"
   ]
  },
  {
   "cell_type": "code",
   "execution_count": 46,
   "metadata": {},
   "outputs": [],
   "source": [
    "vv_files.sort()\n",
    "mask_files.sort()\n",
    "dem_files.sort()"
   ]
  },
  {
   "cell_type": "code",
   "execution_count": 47,
   "metadata": {},
   "outputs": [
    {
     "name": "stdout",
     "output_type": "stream",
     "text": [
      "1540 1540 1540\n"
     ]
    }
   ],
   "source": [
    "print(len(vv_files), len(mask_files), len(dem_files))"
   ]
  },
  {
   "cell_type": "code",
   "execution_count": 48,
   "metadata": {},
   "outputs": [],
   "source": [
    "n = 0\n",
    "sample_path_vv = os.path.join(vv_dir, vv_files[n])\n",
    "sample_path_mask = os.path.join(mask_dir, mask_files[n])\n",
    "sample_path_dem = os.path.join(dem_dir, dem_files[n])\n",
    "\n",
    "sample_vv = rio.open(sample_path_vv)\n",
    "sample_mask = rio.open(sample_path_mask)\n",
    "sample_dem = rio.open(sample_path_dem)"
   ]
  },
  {
   "cell_type": "code",
   "execution_count": 49,
   "metadata": {},
   "outputs": [
    {
     "name": "stdout",
     "output_type": "stream",
     "text": [
      "vv_x10240_y1792.tif mask_x10240_y1792.tif dem_x10240_y1792.tif\n"
     ]
    }
   ],
   "source": [
    "print(vv_files[n], mask_files[n], dem_files[n])"
   ]
  },
  {
   "cell_type": "code",
   "execution_count": 50,
   "metadata": {},
   "outputs": [
    {
     "name": "stdout",
     "output_type": "stream",
     "text": [
      "{'driver': 'GTiff', 'dtype': 'float32', 'nodata': None, 'width': 256, 'height': 256, 'count': 1, 'crs': CRS.from_epsg(32632), 'transform': Affine(20.0, 0.0, 189105.79316470574,\n",
      "       0.0, -20.0, 796162.9311765691)}\n",
      "{'driver': 'GTiff', 'dtype': 'uint8', 'nodata': None, 'width': 256, 'height': 256, 'count': 1, 'crs': CRS.from_epsg(32632), 'transform': Affine(20.000441113013455, 0.0, 189108.23120983833,\n",
      "       0.0, -20.00017885829657, 796163.9337171945)}\n",
      "{'driver': 'GTiff', 'dtype': 'float32', 'nodata': None, 'width': 256, 'height': 256, 'count': 1, 'crs': CRS.from_epsg(32632), 'transform': Affine(20.000910629045794, 0.0, 189112.60280732226,\n",
      "       0.0, -20.000670199451765, 796170.4101960459)}\n"
     ]
    }
   ],
   "source": [
    "print(sample_vv.meta, sample_mask.meta, sample_dem.meta, sep=\"\\n\")"
   ]
  },
  {
   "cell_type": "code",
   "execution_count": null,
   "metadata": {},
   "outputs": [],
   "source": []
  }
 ],
 "metadata": {
  "kernelspec": {
   "display_name": "terraflood",
   "language": "python",
   "name": "python3"
  },
  "language_info": {
   "codemirror_mode": {
    "name": "ipython",
    "version": 3
   },
   "file_extension": ".py",
   "mimetype": "text/x-python",
   "name": "python",
   "nbconvert_exporter": "python",
   "pygments_lexer": "ipython3",
   "version": "3.11.0"
  }
 },
 "nbformat": 4,
 "nbformat_minor": 2
}
